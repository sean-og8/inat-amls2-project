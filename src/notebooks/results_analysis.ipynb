{
 "cells": [
  {
   "cell_type": "code",
   "execution_count": null,
   "id": "886fd367",
   "metadata": {},
   "outputs": [],
   "source": [
    "import pandas as pd \n",
    "import numpy as np \n",
    "import matplotlib.pyplot as plt\n",
    "import torch\n",
    "import torch.nn as nn\n",
    "from torchvision.models import efficientnet_b0, EfficientNet_B0_Weights\n",
    "\n",
    "\n",
    "from src.model.model_classes import EfficientNet_ContextualData"
   ]
  },
  {
   "cell_type": "code",
   "execution_count": null,
   "id": "daf5d202",
   "metadata": {},
   "outputs": [],
   "source": [
    "# load the base model\n",
    "checkpoint = torch.load(f\"runs/model_pretrained_efficientnet_b0_final.pth\")\n",
    "\n",
    "# base model \n",
    "\n",
    "n_classes = 1486\n",
    "\n",
    "trained_model = efficientnet_b0(pretrained=False) \n",
    "\n",
    "trained_model.classifier = nn.Sequential(\n",
    "            nn.Linear(trained_model.classifier[1].in_features, 2048), \n",
    "            nn.BatchNorm1d(2048),\n",
    "            nn.ReLU(),\n",
    "            nn.Dropout(0.5),\n",
    "            nn.Linear(2048, n_classes)  # Final output layer\n",
    ")"
   ]
  },
  {
   "cell_type": "code",
   "execution_count": null,
   "id": "e4bbc035",
   "metadata": {},
   "outputs": [],
   "source": [
    "# Load the geographical model\n",
    "checkpoint = torch.load(f\"runs/model_pretrained_efficientnet_geographical_data_b0_final.pth\")\n",
    "\n",
    "geographical_model = EfficientNet_ContextualData(n_classes, 3)"
   ]
  },
  {
   "cell_type": "code",
   "execution_count": null,
   "id": "6a8ee3e1",
   "metadata": {},
   "outputs": [],
   "source": [
    "# load the data"
   ]
  },
  {
   "cell_type": "code",
   "execution_count": null,
   "id": "3630b1c0",
   "metadata": {},
   "outputs": [],
   "source": [
    "#look for particular species that have improved between model runs\n",
    "bird_classes = [cat for cat in train_data.all_categories if \"Animalia_Chordata_Aves\" in cat]"
   ]
  },
  {
   "cell_type": "code",
   "execution_count": null,
   "id": "9ad309cd",
   "metadata": {},
   "outputs": [],
   "source": [
    "# prepare to count predictions for each class\n",
    "correct_pred = {classname: 0 for classname in bird_classes}\n",
    "total_pred = {classname: 0 for classname in bird_classes}\n",
    "\n",
    "# again no gradients needed\n",
    "with torch.no_grad():\n",
    "    for data in test_loader_birds:\n",
    "        images, labels = data\n",
    "        images, labels = images.to(device), labels.to(device)\n",
    "        labels = remap_labels(labels).to(device)\n",
    "        outputs = trained_model(images)\n",
    "        _, predictions = torch.max(outputs, 1)\n",
    "        # collect the correct predictions for each class\n",
    "        for label, prediction in zip(labels, predictions):\n",
    "            if label == prediction:\n",
    "                correct_pred[bird_classes[label]] += 1\n",
    "            total_pred[bird_classes[label]] += 1\n",
    "# turn into dataframe and sort by smallest success classes\n",
    "# then create confusion matrix for all classes - find the biggest misses\n",
    "\n",
    "\n",
    "# print accuracy for each class\n",
    "for classname, correct_count in correct_pred.items():\n",
    "    accuracy = 100 * float(correct_count) / total_pred[classname]\n",
    "    print(f'Accuracy for class: {classname:5s} is {accuracy:.1f} %')"
   ]
  }
 ],
 "metadata": {
  "kernelspec": {
   "display_name": "inat",
   "language": "python",
   "name": "python3"
  },
  "language_info": {
   "name": "python",
   "version": "3.12.0"
  }
 },
 "nbformat": 4,
 "nbformat_minor": 5
}
